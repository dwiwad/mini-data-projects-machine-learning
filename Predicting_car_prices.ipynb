{
 "cells": [
  {
   "cell_type": "markdown",
   "metadata": {
    "collapsed": true
   },
   "source": [
    "# Predicting Car Prices\n",
    "\n",
    "We'll do some very basic k-nearest neighbours analysis to predict car prices based on its attributes. \n",
    "\n",
    "The dataset I'm going to use comes from here: https://archive.ics.uci.edu/ml/datasets/automobile\n",
    "\n",
    "These data contain a ton of information on a lot of different cars. For example, make, model, fuel type, body style, drive style, wheel base, engine type, etc."
   ]
  },
  {
   "cell_type": "code",
   "execution_count": 1,
   "metadata": {
    "collapsed": false
   },
   "outputs": [
    {
     "data": {
      "text/plain": [
       "symboling              int64\n",
       "normalized_losses     object\n",
       "make                  object\n",
       "fuel_type             object\n",
       "aspiration            object\n",
       "num_doors             object\n",
       "body_style            object\n",
       "drive_wheels          object\n",
       "engine_location       object\n",
       "wheel_base           float64\n",
       "length               float64\n",
       "width                float64\n",
       "height               float64\n",
       "curb_weight            int64\n",
       "engine_type           object\n",
       "num_cylinders         object\n",
       "engine_size            int64\n",
       "fuel_system           object\n",
       "bore                  object\n",
       "stroke                object\n",
       "compression_ratio    float64\n",
       "horsepower            object\n",
       "peak_rpm              object\n",
       "city_mpg               int64\n",
       "highway_mpg            int64\n",
       "price                 object\n",
       "dtype: object"
      ]
     },
     "execution_count": 1,
     "metadata": {},
     "output_type": "execute_result"
    }
   ],
   "source": [
    "import pandas as pd\n",
    "\n",
    "# Need to specify the headers for this dataset\n",
    "cols = [\"symboling\", \"normalized_losses\", \"make\", \"fuel_type\", \"aspiration\",\n",
    "       \"num_doors\", \"body_style\", \"drive_wheels\", \"engine_location\",\n",
    "       \"wheel_base\", \"length\", \"width\", \"height\", \"curb_weight\", \"engine_type\",\n",
    "       \"num_cylinders\", \"engine_size\", \"fuel_system\", \"bore\", \"stroke\",\n",
    "       \"compression_ratio\", \"horsepower\", \"peak_rpm\", \"city_mpg\", \"highway_mpg\",\n",
    "       \"price\"]\n",
    "cars = pd.read_csv(\"imports-85.data\", names=cols)\n",
    "cars.dtypes\n"
   ]
  },
  {
   "cell_type": "code",
   "execution_count": 2,
   "metadata": {
    "collapsed": false
   },
   "outputs": [
    {
     "data": {
      "text/html": [
       "<div>\n",
       "<table border=\"1\" class=\"dataframe\">\n",
       "  <thead>\n",
       "    <tr style=\"text-align: right;\">\n",
       "      <th></th>\n",
       "      <th>symboling</th>\n",
       "      <th>normalized_losses</th>\n",
       "      <th>make</th>\n",
       "      <th>fuel_type</th>\n",
       "      <th>aspiration</th>\n",
       "      <th>num_doors</th>\n",
       "      <th>body_style</th>\n",
       "      <th>drive_wheels</th>\n",
       "      <th>engine_location</th>\n",
       "      <th>wheel_base</th>\n",
       "      <th>...</th>\n",
       "      <th>engine_size</th>\n",
       "      <th>fuel_system</th>\n",
       "      <th>bore</th>\n",
       "      <th>stroke</th>\n",
       "      <th>compression_ratio</th>\n",
       "      <th>horsepower</th>\n",
       "      <th>peak_rpm</th>\n",
       "      <th>city_mpg</th>\n",
       "      <th>highway_mpg</th>\n",
       "      <th>price</th>\n",
       "    </tr>\n",
       "  </thead>\n",
       "  <tbody>\n",
       "    <tr>\n",
       "      <th>0</th>\n",
       "      <td>3</td>\n",
       "      <td>?</td>\n",
       "      <td>alfa-romero</td>\n",
       "      <td>gas</td>\n",
       "      <td>std</td>\n",
       "      <td>two</td>\n",
       "      <td>convertible</td>\n",
       "      <td>rwd</td>\n",
       "      <td>front</td>\n",
       "      <td>88.6</td>\n",
       "      <td>...</td>\n",
       "      <td>130</td>\n",
       "      <td>mpfi</td>\n",
       "      <td>3.47</td>\n",
       "      <td>2.68</td>\n",
       "      <td>9.0</td>\n",
       "      <td>111</td>\n",
       "      <td>5000</td>\n",
       "      <td>21</td>\n",
       "      <td>27</td>\n",
       "      <td>13495</td>\n",
       "    </tr>\n",
       "    <tr>\n",
       "      <th>1</th>\n",
       "      <td>3</td>\n",
       "      <td>?</td>\n",
       "      <td>alfa-romero</td>\n",
       "      <td>gas</td>\n",
       "      <td>std</td>\n",
       "      <td>two</td>\n",
       "      <td>convertible</td>\n",
       "      <td>rwd</td>\n",
       "      <td>front</td>\n",
       "      <td>88.6</td>\n",
       "      <td>...</td>\n",
       "      <td>130</td>\n",
       "      <td>mpfi</td>\n",
       "      <td>3.47</td>\n",
       "      <td>2.68</td>\n",
       "      <td>9.0</td>\n",
       "      <td>111</td>\n",
       "      <td>5000</td>\n",
       "      <td>21</td>\n",
       "      <td>27</td>\n",
       "      <td>16500</td>\n",
       "    </tr>\n",
       "    <tr>\n",
       "      <th>2</th>\n",
       "      <td>1</td>\n",
       "      <td>?</td>\n",
       "      <td>alfa-romero</td>\n",
       "      <td>gas</td>\n",
       "      <td>std</td>\n",
       "      <td>two</td>\n",
       "      <td>hatchback</td>\n",
       "      <td>rwd</td>\n",
       "      <td>front</td>\n",
       "      <td>94.5</td>\n",
       "      <td>...</td>\n",
       "      <td>152</td>\n",
       "      <td>mpfi</td>\n",
       "      <td>2.68</td>\n",
       "      <td>3.47</td>\n",
       "      <td>9.0</td>\n",
       "      <td>154</td>\n",
       "      <td>5000</td>\n",
       "      <td>19</td>\n",
       "      <td>26</td>\n",
       "      <td>16500</td>\n",
       "    </tr>\n",
       "    <tr>\n",
       "      <th>3</th>\n",
       "      <td>2</td>\n",
       "      <td>164</td>\n",
       "      <td>audi</td>\n",
       "      <td>gas</td>\n",
       "      <td>std</td>\n",
       "      <td>four</td>\n",
       "      <td>sedan</td>\n",
       "      <td>fwd</td>\n",
       "      <td>front</td>\n",
       "      <td>99.8</td>\n",
       "      <td>...</td>\n",
       "      <td>109</td>\n",
       "      <td>mpfi</td>\n",
       "      <td>3.19</td>\n",
       "      <td>3.40</td>\n",
       "      <td>10.0</td>\n",
       "      <td>102</td>\n",
       "      <td>5500</td>\n",
       "      <td>24</td>\n",
       "      <td>30</td>\n",
       "      <td>13950</td>\n",
       "    </tr>\n",
       "    <tr>\n",
       "      <th>4</th>\n",
       "      <td>2</td>\n",
       "      <td>164</td>\n",
       "      <td>audi</td>\n",
       "      <td>gas</td>\n",
       "      <td>std</td>\n",
       "      <td>four</td>\n",
       "      <td>sedan</td>\n",
       "      <td>4wd</td>\n",
       "      <td>front</td>\n",
       "      <td>99.4</td>\n",
       "      <td>...</td>\n",
       "      <td>136</td>\n",
       "      <td>mpfi</td>\n",
       "      <td>3.19</td>\n",
       "      <td>3.40</td>\n",
       "      <td>8.0</td>\n",
       "      <td>115</td>\n",
       "      <td>5500</td>\n",
       "      <td>18</td>\n",
       "      <td>22</td>\n",
       "      <td>17450</td>\n",
       "    </tr>\n",
       "  </tbody>\n",
       "</table>\n",
       "<p>5 rows × 26 columns</p>\n",
       "</div>"
      ],
      "text/plain": [
       "   symboling normalized_losses         make fuel_type aspiration num_doors  \\\n",
       "0          3                 ?  alfa-romero       gas        std       two   \n",
       "1          3                 ?  alfa-romero       gas        std       two   \n",
       "2          1                 ?  alfa-romero       gas        std       two   \n",
       "3          2               164         audi       gas        std      four   \n",
       "4          2               164         audi       gas        std      four   \n",
       "\n",
       "    body_style drive_wheels engine_location  wheel_base  ...    engine_size  \\\n",
       "0  convertible          rwd           front        88.6  ...            130   \n",
       "1  convertible          rwd           front        88.6  ...            130   \n",
       "2    hatchback          rwd           front        94.5  ...            152   \n",
       "3        sedan          fwd           front        99.8  ...            109   \n",
       "4        sedan          4wd           front        99.4  ...            136   \n",
       "\n",
       "   fuel_system  bore  stroke compression_ratio horsepower  peak_rpm city_mpg  \\\n",
       "0         mpfi  3.47    2.68               9.0        111      5000       21   \n",
       "1         mpfi  3.47    2.68               9.0        111      5000       21   \n",
       "2         mpfi  2.68    3.47               9.0        154      5000       19   \n",
       "3         mpfi  3.19    3.40              10.0        102      5500       24   \n",
       "4         mpfi  3.19    3.40               8.0        115      5500       18   \n",
       "\n",
       "  highway_mpg  price  \n",
       "0          27  13495  \n",
       "1          27  16500  \n",
       "2          26  16500  \n",
       "3          30  13950  \n",
       "4          22  17450  \n",
       "\n",
       "[5 rows x 26 columns]"
      ]
     },
     "execution_count": 2,
     "metadata": {},
     "output_type": "execute_result"
    }
   ],
   "source": [
    "cars.head()"
   ]
  },
  {
   "cell_type": "markdown",
   "metadata": {},
   "source": [
    "Looking at just the numeric columns, it seems like we can use wheelbase, length, width, height, engine size, compression ratio, and city/highway mpr to predict price.\n",
    "\n",
    "We're probably going to want to use some of the other variables though, like horsepower, body style, etc. So, right now we'll deal with counting and seeing where our missing values are, as well as turning relevant columns numeric."
   ]
  },
  {
   "cell_type": "code",
   "execution_count": 3,
   "metadata": {
    "collapsed": false
   },
   "outputs": [],
   "source": [
    "import numpy as np\n",
    "\n",
    "cars = cars.replace('?', np.nan)\n",
    "\n",
    "# Now lets make things numeric\n",
    "num_vars = ['normalized_losses', \"bore\", \"stroke\", \"horsepower\", \"peak_rpm\",\n",
    "            \"price\"]\n",
    "\n",
    "for i in num_vars:\n",
    "    cars[i] = cars[i].astype('float64')"
   ]
  },
  {
   "cell_type": "code",
   "execution_count": 4,
   "metadata": {
    "collapsed": false
   },
   "outputs": [
    {
     "data": {
      "text/html": [
       "<div>\n",
       "<table border=\"1\" class=\"dataframe\">\n",
       "  <thead>\n",
       "    <tr style=\"text-align: right;\">\n",
       "      <th></th>\n",
       "      <th>symboling</th>\n",
       "      <th>normalized_losses</th>\n",
       "      <th>make</th>\n",
       "      <th>fuel_type</th>\n",
       "      <th>aspiration</th>\n",
       "      <th>num_doors</th>\n",
       "      <th>body_style</th>\n",
       "      <th>drive_wheels</th>\n",
       "      <th>engine_location</th>\n",
       "      <th>wheel_base</th>\n",
       "      <th>...</th>\n",
       "      <th>engine_size</th>\n",
       "      <th>fuel_system</th>\n",
       "      <th>bore</th>\n",
       "      <th>stroke</th>\n",
       "      <th>compression_ratio</th>\n",
       "      <th>horsepower</th>\n",
       "      <th>peak_rpm</th>\n",
       "      <th>city_mpg</th>\n",
       "      <th>highway_mpg</th>\n",
       "      <th>price</th>\n",
       "    </tr>\n",
       "  </thead>\n",
       "  <tbody>\n",
       "    <tr>\n",
       "      <th>0</th>\n",
       "      <td>3</td>\n",
       "      <td>NaN</td>\n",
       "      <td>alfa-romero</td>\n",
       "      <td>gas</td>\n",
       "      <td>std</td>\n",
       "      <td>two</td>\n",
       "      <td>convertible</td>\n",
       "      <td>rwd</td>\n",
       "      <td>front</td>\n",
       "      <td>88.6</td>\n",
       "      <td>...</td>\n",
       "      <td>130</td>\n",
       "      <td>mpfi</td>\n",
       "      <td>3.47</td>\n",
       "      <td>2.68</td>\n",
       "      <td>9.0</td>\n",
       "      <td>111.0</td>\n",
       "      <td>5000.0</td>\n",
       "      <td>21</td>\n",
       "      <td>27</td>\n",
       "      <td>13495.0</td>\n",
       "    </tr>\n",
       "    <tr>\n",
       "      <th>1</th>\n",
       "      <td>3</td>\n",
       "      <td>NaN</td>\n",
       "      <td>alfa-romero</td>\n",
       "      <td>gas</td>\n",
       "      <td>std</td>\n",
       "      <td>two</td>\n",
       "      <td>convertible</td>\n",
       "      <td>rwd</td>\n",
       "      <td>front</td>\n",
       "      <td>88.6</td>\n",
       "      <td>...</td>\n",
       "      <td>130</td>\n",
       "      <td>mpfi</td>\n",
       "      <td>3.47</td>\n",
       "      <td>2.68</td>\n",
       "      <td>9.0</td>\n",
       "      <td>111.0</td>\n",
       "      <td>5000.0</td>\n",
       "      <td>21</td>\n",
       "      <td>27</td>\n",
       "      <td>16500.0</td>\n",
       "    </tr>\n",
       "    <tr>\n",
       "      <th>2</th>\n",
       "      <td>1</td>\n",
       "      <td>NaN</td>\n",
       "      <td>alfa-romero</td>\n",
       "      <td>gas</td>\n",
       "      <td>std</td>\n",
       "      <td>two</td>\n",
       "      <td>hatchback</td>\n",
       "      <td>rwd</td>\n",
       "      <td>front</td>\n",
       "      <td>94.5</td>\n",
       "      <td>...</td>\n",
       "      <td>152</td>\n",
       "      <td>mpfi</td>\n",
       "      <td>2.68</td>\n",
       "      <td>3.47</td>\n",
       "      <td>9.0</td>\n",
       "      <td>154.0</td>\n",
       "      <td>5000.0</td>\n",
       "      <td>19</td>\n",
       "      <td>26</td>\n",
       "      <td>16500.0</td>\n",
       "    </tr>\n",
       "    <tr>\n",
       "      <th>3</th>\n",
       "      <td>2</td>\n",
       "      <td>164.0</td>\n",
       "      <td>audi</td>\n",
       "      <td>gas</td>\n",
       "      <td>std</td>\n",
       "      <td>four</td>\n",
       "      <td>sedan</td>\n",
       "      <td>fwd</td>\n",
       "      <td>front</td>\n",
       "      <td>99.8</td>\n",
       "      <td>...</td>\n",
       "      <td>109</td>\n",
       "      <td>mpfi</td>\n",
       "      <td>3.19</td>\n",
       "      <td>3.40</td>\n",
       "      <td>10.0</td>\n",
       "      <td>102.0</td>\n",
       "      <td>5500.0</td>\n",
       "      <td>24</td>\n",
       "      <td>30</td>\n",
       "      <td>13950.0</td>\n",
       "    </tr>\n",
       "    <tr>\n",
       "      <th>4</th>\n",
       "      <td>2</td>\n",
       "      <td>164.0</td>\n",
       "      <td>audi</td>\n",
       "      <td>gas</td>\n",
       "      <td>std</td>\n",
       "      <td>four</td>\n",
       "      <td>sedan</td>\n",
       "      <td>4wd</td>\n",
       "      <td>front</td>\n",
       "      <td>99.4</td>\n",
       "      <td>...</td>\n",
       "      <td>136</td>\n",
       "      <td>mpfi</td>\n",
       "      <td>3.19</td>\n",
       "      <td>3.40</td>\n",
       "      <td>8.0</td>\n",
       "      <td>115.0</td>\n",
       "      <td>5500.0</td>\n",
       "      <td>18</td>\n",
       "      <td>22</td>\n",
       "      <td>17450.0</td>\n",
       "    </tr>\n",
       "  </tbody>\n",
       "</table>\n",
       "<p>5 rows × 26 columns</p>\n",
       "</div>"
      ],
      "text/plain": [
       "   symboling  normalized_losses         make fuel_type aspiration num_doors  \\\n",
       "0          3                NaN  alfa-romero       gas        std       two   \n",
       "1          3                NaN  alfa-romero       gas        std       two   \n",
       "2          1                NaN  alfa-romero       gas        std       two   \n",
       "3          2              164.0         audi       gas        std      four   \n",
       "4          2              164.0         audi       gas        std      four   \n",
       "\n",
       "    body_style drive_wheels engine_location  wheel_base   ...     engine_size  \\\n",
       "0  convertible          rwd           front        88.6   ...             130   \n",
       "1  convertible          rwd           front        88.6   ...             130   \n",
       "2    hatchback          rwd           front        94.5   ...             152   \n",
       "3        sedan          fwd           front        99.8   ...             109   \n",
       "4        sedan          4wd           front        99.4   ...             136   \n",
       "\n",
       "   fuel_system  bore  stroke compression_ratio horsepower  peak_rpm city_mpg  \\\n",
       "0         mpfi  3.47    2.68               9.0      111.0    5000.0       21   \n",
       "1         mpfi  3.47    2.68               9.0      111.0    5000.0       21   \n",
       "2         mpfi  2.68    3.47               9.0      154.0    5000.0       19   \n",
       "3         mpfi  3.19    3.40              10.0      102.0    5500.0       24   \n",
       "4         mpfi  3.19    3.40               8.0      115.0    5500.0       18   \n",
       "\n",
       "   highway_mpg    price  \n",
       "0           27  13495.0  \n",
       "1           27  16500.0  \n",
       "2           26  16500.0  \n",
       "3           30  13950.0  \n",
       "4           22  17450.0  \n",
       "\n",
       "[5 rows x 26 columns]"
      ]
     },
     "execution_count": 4,
     "metadata": {},
     "output_type": "execute_result"
    }
   ],
   "source": [
    "cars.head()"
   ]
  },
  {
   "cell_type": "markdown",
   "metadata": {},
   "source": [
    "Everything looks good - how many missing values do we have in the normalized losses column?"
   ]
  },
  {
   "cell_type": "code",
   "execution_count": 5,
   "metadata": {
    "collapsed": false
   },
   "outputs": [
    {
     "name": "stdout",
     "output_type": "stream",
     "text": [
      "normalized losses:  41\n"
     ]
    }
   ],
   "source": [
    "print(\"normalized losses: \", cars['normalized_losses'].isnull().sum())"
   ]
  },
  {
   "cell_type": "markdown",
   "metadata": {},
   "source": [
    "There are 41 missing values in the normalized_losses column. Given there are only 205 rows, thats a decent chunk missing. I'm not sure this column is the most useful, so we'll just not use this column in our analyses at all. Let's take a look at our other numeric columns and see what the missing values are like."
   ]
  },
  {
   "cell_type": "code",
   "execution_count": 6,
   "metadata": {
    "collapsed": false
   },
   "outputs": [
    {
     "data": {
      "text/plain": [
       "symboling             0\n",
       "normalized_losses    41\n",
       "make                  0\n",
       "fuel_type             0\n",
       "aspiration            0\n",
       "num_doors             2\n",
       "body_style            0\n",
       "drive_wheels          0\n",
       "engine_location       0\n",
       "wheel_base            0\n",
       "length                0\n",
       "width                 0\n",
       "height                0\n",
       "curb_weight           0\n",
       "engine_type           0\n",
       "num_cylinders         0\n",
       "engine_size           0\n",
       "fuel_system           0\n",
       "bore                  4\n",
       "stroke                4\n",
       "compression_ratio     0\n",
       "horsepower            2\n",
       "peak_rpm              2\n",
       "city_mpg              0\n",
       "highway_mpg           0\n",
       "price                 4\n",
       "dtype: int64"
      ]
     },
     "execution_count": 6,
     "metadata": {},
     "output_type": "execute_result"
    }
   ],
   "source": [
    "cars.isnull().sum()"
   ]
  },
  {
   "cell_type": "markdown",
   "metadata": {},
   "source": [
    "So it looks like most of our columns are pretty good, with only a couple missing  values here and there. The most crucial one here is price, our outcome variable. Given that the number of missing rows is, at most, about 2%, I'm just going to listwise delete any row that has a missing variable in any of these. I don't like mean imputation as it is purely making up data.\n",
    "\n",
    "I'll start with the price column because its the most important and I suspect the rows that are missing price are the same rows missing the other data as well."
   ]
  },
  {
   "cell_type": "code",
   "execution_count": 7,
   "metadata": {
    "collapsed": false
   },
   "outputs": [],
   "source": [
    "cars = cars.dropna(subset = ['price'])"
   ]
  },
  {
   "cell_type": "markdown",
   "metadata": {},
   "source": [
    "Now lets check the missing values again:"
   ]
  },
  {
   "cell_type": "code",
   "execution_count": 8,
   "metadata": {
    "collapsed": false
   },
   "outputs": [
    {
     "data": {
      "text/plain": [
       "symboling             0\n",
       "normalized_losses    37\n",
       "make                  0\n",
       "fuel_type             0\n",
       "aspiration            0\n",
       "num_doors             2\n",
       "body_style            0\n",
       "drive_wheels          0\n",
       "engine_location       0\n",
       "wheel_base            0\n",
       "length                0\n",
       "width                 0\n",
       "height                0\n",
       "curb_weight           0\n",
       "engine_type           0\n",
       "num_cylinders         0\n",
       "engine_size           0\n",
       "fuel_system           0\n",
       "bore                  4\n",
       "stroke                4\n",
       "compression_ratio     0\n",
       "horsepower            2\n",
       "peak_rpm              2\n",
       "city_mpg              0\n",
       "highway_mpg           0\n",
       "price                 0\n",
       "dtype: int64"
      ]
     },
     "execution_count": 8,
     "metadata": {},
     "output_type": "execute_result"
    }
   ],
   "source": [
    "cars.isnull().sum()"
   ]
  },
  {
   "cell_type": "markdown",
   "metadata": {},
   "source": [
    "Now, I'll do the same to listwise delete the other numeric columns."
   ]
  },
  {
   "cell_type": "code",
   "execution_count": 9,
   "metadata": {
    "collapsed": false
   },
   "outputs": [],
   "source": [
    "cars = cars.dropna(subset = ['bore', 'stroke', 'horsepower', 'peak_rpm'])"
   ]
  },
  {
   "cell_type": "markdown",
   "metadata": {},
   "source": [
    "Now, we should have no missing data and be ready to go! The next step is to convert all the numeric columns into standardized z-scores. I'm going to take the dataset down to only the numeric columns because thats all we care about here, then standardize everything."
   ]
  },
  {
   "cell_type": "code",
   "execution_count": 10,
   "metadata": {
    "collapsed": false
   },
   "outputs": [],
   "source": [
    "cols = ['wheel_base', 'length', 'width', 'height',\n",
    "        'curb_weight', 'engine_size', 'bore', 'stroke', 'horsepower',\n",
    "        'peak_rpm', 'city_mpg', 'highway_mpg', 'price']\n",
    "cars = cars[cols]\n",
    "\n",
    "normalized_cars = (cars - cars.mean()) / (cars.std())"
   ]
  },
  {
   "cell_type": "markdown",
   "metadata": {},
   "source": [
    "Alright, onward into some modeling! First we're just going to build some basic univariate models testing some different predictors."
   ]
  },
  {
   "cell_type": "code",
   "execution_count": 11,
   "metadata": {
    "collapsed": false
   },
   "outputs": [
    {
     "name": "stdout",
     "output_type": "stream",
     "text": [
      "city mpg:  0.598975486019\n",
      "width:  0.671608148246\n",
      "highway mpg:  0.537913994132\n",
      "engine size:  0.536691465842\n",
      "horsepower:  0.571585852136\n"
     ]
    }
   ],
   "source": [
    "# Writing a simple function that trains and tests univariate models\n",
    "# This function takes in three arguments: the predictor, the outcome, & the data\n",
    "from sklearn.neighbors import KNeighborsRegressor\n",
    "from sklearn.metrics import mean_squared_error\n",
    "\n",
    "def knn_train_test(train_col, target_col, df):\n",
    "    knn = KNeighborsRegressor()\n",
    "    np.random.seed(1)\n",
    "        \n",
    "    # Randomize order of rows in data frame.\n",
    "    shuffled_index = np.random.permutation(df.index)\n",
    "    rand_df = df.reindex(shuffled_index)\n",
    "\n",
    "    # Divide number of rows in half and round.\n",
    "    last_train_row = int(len(rand_df) / 2)\n",
    "    \n",
    "    # Select the first half and set as training set.\n",
    "    # Select the second half and set as test set.\n",
    "    train_df = rand_df.iloc[0:last_train_row]\n",
    "    test_df = rand_df.iloc[last_train_row:]\n",
    "    \n",
    "    # Fit a KNN model using default k value.\n",
    "    knn.fit(train_df[[train_col]], train_df[target_col])\n",
    "    \n",
    "    # Make predictions using model.\n",
    "    predicted_labels = knn.predict(test_df[[train_col]])\n",
    "\n",
    "    # Calculate and return RMSE.\n",
    "    mse = mean_squared_error(test_df[target_col], predicted_labels)\n",
    "    rmse = np.sqrt(mse)\n",
    "    return rmse\n",
    "\n",
    "# Lets test a couple of predictors\n",
    "print('city mpg: ', knn_train_test('city_mpg', 'price', normalized_cars))\n",
    "print('width: ', knn_train_test('width', 'price', normalized_cars))\n",
    "print('highway mpg: ', knn_train_test('highway_mpg', 'price', normalized_cars))\n",
    "print('engine size: ', knn_train_test('engine_size', 'price', normalized_cars))\n",
    "print('horsepower: ', knn_train_test('horsepower', 'price', normalized_cars))"
   ]
  },
  {
   "cell_type": "markdown",
   "metadata": {},
   "source": [
    "There are a couple of rmse values for some univariate models. I threw in \"width\" as a logic check - why would width predict the price of a car, unless larger vehicles are more expensive. In any case, it should be the worst predictor and it is. Of the couple that I threw in there to test, the best predictor of a vehicles price seems to be it's highway mpg.\n",
    "\n",
    "Now, as a test, I'm going to modify the above function to take another argument: a k value. Then, I'll test each of the five predictors above with five different values of k (1, 3, 5, 7, and 9)."
   ]
  },
  {
   "cell_type": "code",
   "execution_count": 13,
   "metadata": {
    "collapsed": false
   },
   "outputs": [
    {
     "data": {
      "text/plain": [
       "{'bore': {1: 1.2142304178718561,\n",
       "  3: 0.86766581048215152,\n",
       "  5: 0.89458788943880752,\n",
       "  7: 0.94676716177240661,\n",
       "  9: 0.95385344053196963},\n",
       " 'city_mpg': {1: 0.69529747854104784,\n",
       "  3: 0.59031417913396289,\n",
       "  5: 0.59897548601904338,\n",
       "  7: 0.59715938629269016,\n",
       "  9: 0.57728649652220132},\n",
       " 'curb_weight': {1: 0.8365387787670262,\n",
       "  3: 0.64395375801733934,\n",
       "  5: 0.57031290606074236,\n",
       "  7: 0.51644149986604171,\n",
       "  9: 0.51839468763038343},\n",
       " 'engine_size': {1: 0.55456842477058543,\n",
       "  3: 0.54125650939355474,\n",
       "  5: 0.53669146584152094,\n",
       "  7: 0.51899873944760311,\n",
       "  9: 0.50362821678292591},\n",
       " 'height': {1: 1.1521894508998922,\n",
       "  3: 1.0168354498989998,\n",
       "  5: 0.94018342361170537,\n",
       "  7: 0.98192402693779424,\n",
       "  9: 0.94562106614391528},\n",
       " 'highway_mpg': {1: 0.69402405950428248,\n",
       "  3: 0.57416390399142236,\n",
       "  5: 0.53791399413219376,\n",
       "  7: 0.53495996840130122,\n",
       "  9: 0.54899088943686292},\n",
       " 'horsepower': {1: 0.54931712010379319,\n",
       "  3: 0.58337889657418729,\n",
       "  5: 0.57158585213578872,\n",
       "  7: 0.59314672824644243,\n",
       "  9: 0.59002690698940097},\n",
       " 'length': {1: 0.65713817747103875,\n",
       "  3: 0.63950652453727652,\n",
       "  5: 0.64700844560860649,\n",
       "  7: 0.66892394999830362,\n",
       "  9: 0.6572441270128111},\n",
       " 'peak_rpm': {1: 0.85899385207057188,\n",
       "  3: 0.88634665981443039,\n",
       "  5: 0.90984280257609562,\n",
       "  7: 0.90757986581712302,\n",
       "  9: 0.90022237747155309},\n",
       " 'stroke': {1: 0.91796375714948086,\n",
       "  3: 0.88113492952413897,\n",
       "  5: 0.89586641314603555,\n",
       "  7: 0.94574853212680499,\n",
       "  9: 0.92121730389055356},\n",
       " 'wheel_base': {1: 0.70984063675235898,\n",
       "  3: 0.70981264790591259,\n",
       "  5: 0.70662378566203043,\n",
       "  7: 0.71073380297018984,\n",
       "  9: 0.72499494497288963},\n",
       " 'width': {1: 0.77543242861316763,\n",
       "  3: 0.68812005931548847,\n",
       "  5: 0.67160814824580428,\n",
       "  7: 0.5826291501627695,\n",
       "  9: 0.56790774193128279}}"
      ]
     },
     "execution_count": 13,
     "metadata": {},
     "output_type": "execute_result"
    }
   ],
   "source": [
    "def knn_train_test_new(train_col, target_col, df):\n",
    "    np.random.seed(1)\n",
    "        \n",
    "    # Randomize order of rows in data frame.\n",
    "    shuffled_index = np.random.permutation(df.index)\n",
    "    rand_df = df.reindex(shuffled_index)\n",
    "\n",
    "    # Divide number of rows in half and round.\n",
    "    last_train_row = int(len(rand_df) / 2)\n",
    "    \n",
    "    # Select the first half and set as training set.\n",
    "    # Select the second half and set as test set.\n",
    "    train_df = rand_df.iloc[0:last_train_row]\n",
    "    test_df = rand_df.iloc[last_train_row:]\n",
    "    \n",
    "    k_values = [1,3,5,7,9]\n",
    "    k_rmses = {}\n",
    "    \n",
    "    for k in k_values:\n",
    "        # Fit model using k nearest neighbors.\n",
    "        knn = KNeighborsRegressor(n_neighbors=k)\n",
    "        knn.fit(train_df[[train_col]], train_df[target_col])\n",
    "\n",
    "        # Make predictions using model.\n",
    "        predicted_labels = knn.predict(test_df[[train_col]])\n",
    "\n",
    "        # Calculate and return RMSE.\n",
    "        mse = mean_squared_error(test_df[target_col], predicted_labels)\n",
    "        rmse = np.sqrt(mse)\n",
    "        \n",
    "        k_rmses[k] = rmse\n",
    "    return k_rmses\n",
    "\n",
    "k_rmse_results = {}\n",
    "\n",
    "# For each column from above, train a model, return RMSE value\n",
    "# and add to the dictionary `rmse_results`.\n",
    "variables = ['wheel_base', 'length', 'width', 'height',\n",
    "        'curb_weight', 'engine_size', 'bore', 'stroke', 'horsepower',\n",
    "        'peak_rpm', 'city_mpg', 'highway_mpg']\n",
    "\n",
    "for var in variables:\n",
    "    rmse_val = knn_train_test_new(var, 'price', normalized_cars)\n",
    "    k_rmse_results[var] = rmse_val\n",
    "\n",
    "k_rmse_results"
   ]
  },
  {
   "cell_type": "markdown",
   "metadata": {
    "collapsed": true
   },
   "source": [
    "Generally speaking, going up to k = 9 worked the best for some of the models, but not for others. The error actually went up as we increased k for some. With a k of 9, the best univariate predictor seems to be engine size, with predictions only off by about half a standard deviation. So thats the best, but it's still not great.\n",
    "\n",
    "Now, I'll modify the above function to take multiple columns and then train and test some models using the the best two, then three, four, and five columns from above."
   ]
  },
  {
   "cell_type": "code",
   "execution_count": 25,
   "metadata": {
    "collapsed": false
   },
   "outputs": [
    {
     "data": {
      "text/plain": [
       "{'five best features': {5: 0.49634970383078636},\n",
       " 'four best features': {5: 0.48157162981314988},\n",
       " 'three best features': {5: 0.50707231602531166},\n",
       " 'two best features': {5: 0.43695579560820619}}"
      ]
     },
     "execution_count": 25,
     "metadata": {},
     "output_type": "execute_result"
    }
   ],
   "source": [
    "def knn_train_test_mult(train_cols, target_col, df):\n",
    "    np.random.seed(1)\n",
    "        \n",
    "    # Randomize order of rows in data frame.\n",
    "    shuffled_index = np.random.permutation(df.index)\n",
    "    rand_df = df.reindex(shuffled_index)\n",
    "\n",
    "    # Divide number of rows in half and round.\n",
    "    last_train_row = int(len(rand_df) / 2)\n",
    "    \n",
    "    # Select the first half and set as training set.\n",
    "    # Select the second half and set as test set.\n",
    "    train_df = rand_df.iloc[0:last_train_row]\n",
    "    test_df = rand_df.iloc[last_train_row:]\n",
    "    \n",
    "    k_values = [5]\n",
    "    k_rmses = {}\n",
    "    \n",
    "    for k in k_values:\n",
    "        # Fit model using k nearest neighbors.\n",
    "        knn = KNeighborsRegressor(n_neighbors=k)\n",
    "        knn.fit(train_df[train_cols], train_df[target_col])\n",
    "\n",
    "        # Make predictions using model.\n",
    "        predicted_labels = knn.predict(test_df[train_cols])\n",
    "\n",
    "        # Calculate and return RMSE.\n",
    "        mse = mean_squared_error(test_df[target_col], predicted_labels)\n",
    "        rmse = np.sqrt(mse)\n",
    "        \n",
    "        k_rmses[k] = rmse\n",
    "    return k_rmses\n",
    "\n",
    "train_cols_2 = ['engine_size', 'highway_mpg']\n",
    "train_cols_3 = ['engine_size', 'highway_mpg', 'curb_weight']\n",
    "train_cols_4 = ['engine_size', 'highway_mpg', 'curb_weight',\n",
    "               'horsepower']\n",
    "train_cols_5 = ['engine_size', 'highway_mpg', 'curb_weight',\n",
    "               'horsepower', 'city_mpg']\n",
    "\n",
    "k_rmse_results = {}\n",
    "\n",
    "rmse_val = knn_train_test_mult(train_cols_2, 'price', normalized_cars)\n",
    "k_rmse_results[\"two best features\"] = rmse_val\n",
    "rmse_val = knn_train_test_mult(train_cols_3, 'price', normalized_cars)\n",
    "k_rmse_results[\"three best features\"] = rmse_val\n",
    "rmse_val = knn_train_test_mult(train_cols_4, 'price', normalized_cars)\n",
    "k_rmse_results[\"four best features\"] = rmse_val\n",
    "rmse_val = knn_train_test_mult(train_cols_5, 'price', normalized_cars)\n",
    "k_rmse_results[\"five best features\"] = rmse_val\n",
    "\n",
    "k_rmse_results"
   ]
  },
  {
   "cell_type": "markdown",
   "metadata": {},
   "source": [
    "Interestingly, adding more predictors does not increase the performance of the model at all. This is not at all surprising because we started with the two best predictors, and just tacked on worse and worse predictors. So simply adding more doesn't do anything good for us, it just adds more muddy predictors to the model.\n",
    "\n",
    "The best performing model here to predict the price of a car is simply it's engine size and highway miles per gallon."
   ]
  },
  {
   "cell_type": "code",
   "execution_count": 35,
   "metadata": {
    "collapsed": false
   },
   "outputs": [
    {
     "data": {
      "text/plain": [
       "{'five best features': {1: 0.48370851070283638,\n",
       "  2: 0.45709593736092696,\n",
       "  3: 0.45932846135166017,\n",
       "  4: 0.47702516372024495,\n",
       "  5: 0.49634970383078636,\n",
       "  6: 0.51326367838750764,\n",
       "  7: 0.49909158266517145,\n",
       "  8: 0.49234720868686166,\n",
       "  9: 0.49925986215124729,\n",
       "  10: 0.50320132862625788,\n",
       "  11: 0.49352187011331128,\n",
       "  12: 0.50969596379759741,\n",
       "  13: 0.51666729281793589,\n",
       "  14: 0.52430330537451841,\n",
       "  15: 0.52831175797337293,\n",
       "  16: 0.53372729477563852,\n",
       "  17: 0.53629514907736431,\n",
       "  18: 0.53771760713738892,\n",
       "  19: 0.54366780131360726,\n",
       "  20: 0.55390626006954025,\n",
       "  21: 0.56186625263562961,\n",
       "  22: 0.56399228907515964,\n",
       "  23: 0.56686293421110434,\n",
       "  24: 0.56749133395228601},\n",
       " 'four best features': {1: 0.46011695087263338,\n",
       "  2: 0.47254209382853879,\n",
       "  3: 0.4957675847479055,\n",
       "  4: 0.47457606714743178,\n",
       "  5: 0.48157162981314988,\n",
       "  6: 0.4988487989184765,\n",
       "  7: 0.51321993316267744,\n",
       "  8: 0.51485477394479984,\n",
       "  9: 0.51767653423898286,\n",
       "  10: 0.5323478616627898,\n",
       "  11: 0.51621784291210482,\n",
       "  12: 0.51180481420952084,\n",
       "  13: 0.52093660357028182,\n",
       "  14: 0.5264585716201885,\n",
       "  15: 0.53375627848681184,\n",
       "  16: 0.53867876043121632,\n",
       "  17: 0.539751445854185,\n",
       "  18: 0.54052905274747964,\n",
       "  19: 0.54394381259000146,\n",
       "  20: 0.55263828123323866,\n",
       "  21: 0.55895871633176053,\n",
       "  22: 0.56273074037859749,\n",
       "  23: 0.55965116497813094,\n",
       "  24: 0.56079209060485291},\n",
       " 'three best features': {1: 0.53304672541629627,\n",
       "  2: 0.47236953984714419,\n",
       "  3: 0.48544239785342919,\n",
       "  4: 0.46468465687861726,\n",
       "  5: 0.50707231602531166,\n",
       "  6: 0.50672338800144279,\n",
       "  7: 0.52042141176821866,\n",
       "  8: 0.51959755832321974,\n",
       "  9: 0.51531096459267978,\n",
       "  10: 0.52080169867439063,\n",
       "  11: 0.52322240088596494,\n",
       "  12: 0.52075280982124794,\n",
       "  13: 0.51183217030638006,\n",
       "  14: 0.51868070682253542,\n",
       "  15: 0.52774088364145721,\n",
       "  16: 0.53035523273810814,\n",
       "  17: 0.53183552745587126,\n",
       "  18: 0.53451532836203997,\n",
       "  19: 0.54155167597224763,\n",
       "  20: 0.54551779898598018,\n",
       "  21: 0.54674295619522062,\n",
       "  22: 0.54707824469373634,\n",
       "  23: 0.54985793303062935,\n",
       "  24: 0.55512440029648535},\n",
       " 'two best features': {1: 0.4962211708123152,\n",
       "  2: 0.42439666654800412,\n",
       "  3: 0.37244955551446796,\n",
       "  4: 0.38221587546513652,\n",
       "  5: 0.43695579560820619,\n",
       "  6: 0.49363489340281513,\n",
       "  7: 0.50823941279743867,\n",
       "  8: 0.51418965195989808,\n",
       "  9: 0.52616341995960625,\n",
       "  10: 0.53013621032483371,\n",
       "  11: 0.53671709358748898,\n",
       "  12: 0.53444184258976579,\n",
       "  13: 0.51587142155192167,\n",
       "  14: 0.51205713655316698,\n",
       "  15: 0.5119686970820041,\n",
       "  16: 0.51750488428455055,\n",
       "  17: 0.52218955380387977,\n",
       "  18: 0.53175784405886029,\n",
       "  19: 0.54377416147308744,\n",
       "  20: 0.54302569583633942,\n",
       "  21: 0.54968364588915308,\n",
       "  22: 0.5508362135961884,\n",
       "  23: 0.55132842211110611,\n",
       "  24: 0.55665088230669157}}"
      ]
     },
     "execution_count": 35,
     "metadata": {},
     "output_type": "execute_result"
    }
   ],
   "source": [
    "def knn_train_test_mult(train_cols, target_col, df):\n",
    "    np.random.seed(1)\n",
    "        \n",
    "    # Randomize order of rows in data frame.\n",
    "    shuffled_index = np.random.permutation(df.index)\n",
    "    rand_df = df.reindex(shuffled_index)\n",
    "\n",
    "    # Divide number of rows in half and round.\n",
    "    last_train_row = int(len(rand_df) / 2)\n",
    "    \n",
    "    # Select the first half and set as training set.\n",
    "    # Select the second half and set as test set.\n",
    "    train_df = rand_df.iloc[0:last_train_row]\n",
    "    test_df = rand_df.iloc[last_train_row:]\n",
    "    \n",
    "    k_values = list(range(1,25))\n",
    "    k_rmses = {}\n",
    "    \n",
    "    for k in k_values:\n",
    "        # Fit model using k nearest neighbors.\n",
    "        knn = KNeighborsRegressor(n_neighbors=k)\n",
    "        knn.fit(train_df[train_cols], train_df[target_col])\n",
    "\n",
    "        # Make predictions using model.\n",
    "        predicted_labels = knn.predict(test_df[train_cols])\n",
    "\n",
    "        # Calculate and return RMSE.\n",
    "        mse = mean_squared_error(test_df[target_col], predicted_labels)\n",
    "        rmse = np.sqrt(mse)\n",
    "        \n",
    "        k_rmses[k] = rmse\n",
    "    return k_rmses\n",
    "\n",
    "k_rmse_results_2 = {}\n",
    "\n",
    "rmse_val = knn_train_test_mult(train_cols_2, 'price', normalized_cars)\n",
    "k_rmse_results_2[\"two best features\"] = rmse_val\n",
    "rmse_val = knn_train_test_mult(train_cols_3, 'price', normalized_cars)\n",
    "k_rmse_results_2[\"three best features\"] = rmse_val\n",
    "rmse_val = knn_train_test_mult(train_cols_4, 'price', normalized_cars)\n",
    "k_rmse_results_2[\"four best features\"] = rmse_val\n",
    "rmse_val = knn_train_test_mult(train_cols_5, 'price', normalized_cars)\n",
    "k_rmse_results_2[\"five best features\"] = rmse_val\n",
    "\n",
    "k_rmse_results_2\n"
   ]
  },
  {
   "cell_type": "markdown",
   "metadata": {},
   "source": [
    "Here is some hyperparamaterization, let's visualize and see if we can see what k-value is the best for each set of predictors."
   ]
  },
  {
   "cell_type": "code",
   "execution_count": 37,
   "metadata": {
    "collapsed": false
   },
   "outputs": [
    {
     "data": {
      "image/png": "[encoded data removed]",
      "text/plain": [
       "<matplotlib.figure.Figure at 0x7fe51e25e278>"
      ]
     },
     "metadata": {},
     "output_type": "display_data"
    }
   ],
   "source": [
    "import matplotlib.pyplot as plt\n",
    "% matplotlib inline\n",
    "\n",
    "for k,v in k_rmse_results_2.items():\n",
    "    x = list(v.keys())\n",
    "    y = list(v.values())\n",
    "    \n",
    "    plt.plot(x,y)\n",
    "    plt.xlabel('k value')\n",
    "    plt.ylabel('RMSE')\n",
    "    \n",
    "plt.show()"
   ]
  },
  {
   "cell_type": "markdown",
   "metadata": {},
   "source": [
    "The pattern you can discern just looking at the numbers becomes clear here when looking at the graph. The best models for any given set of predictors is right around a k of 3-5. Once we start adding more than that, the performance of the model gets worse.\n",
    "\n",
    "So, it's again clear the best multivariate k nearest neighbours model to predict the price of a car is using simply highway miles per gallon and engine size, with 3 nearest neighbours."
   ]
  }
 ],
 "metadata": {
  "kernelspec": {
   "display_name": "Python 3",
   "language": "python",
   "name": "python3"
  },
  "language_info": {
   "codemirror_mode": {
    "name": "ipython",
    "version": 3
   },
   "file_extension": ".py",
   "mimetype": "text/x-python",
   "name": "python",
   "nbconvert_exporter": "python",
   "pygments_lexer": "ipython3",
   "version": "3.4.3"
  }
 },
 "nbformat": 4,
 "nbformat_minor": 2
}
